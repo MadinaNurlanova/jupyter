{
 "cells": [
  {
   "cell_type": "code",
   "execution_count": null,
   "id": "9a454675-d372-4c91-9487-c908fad4fe11",
   "metadata": {},
   "outputs": [],
   "source": []
  }
 ],
 "metadata": {
  "kernelspec": {
   "display_name": "",
   "name": ""
  },
  "language_info": {
   "name": ""
  }
 },
 "nbformat": 4,
 "nbformat_minor": 5
}
