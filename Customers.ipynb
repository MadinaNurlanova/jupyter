{
 "cells": [
  {
   "cell_type": "code",
   "execution_count": null,
   "id": "d942a3ad-a8a1-464c-8223-ef5bbbf406f9",
   "metadata": {},
   "outputs": [],
   "source": []
  }
 ],
 "metadata": {
  "kernelspec": {
   "display_name": "",
   "name": ""
  },
  "language_info": {
   "name": ""
  }
 },
 "nbformat": 4,
 "nbformat_minor": 5
}
