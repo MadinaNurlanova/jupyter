{
 "cells": [
  {
   "cell_type": "code",
   "execution_count": 2,
   "id": "e27e646c-633c-419a-82c3-0e98f4e9f84d",
   "metadata": {},
   "outputs": [],
   "source": [
    "import pandas as pd"
   ]
  },
  {
   "cell_type": "code",
   "execution_count": 3,
   "id": "ccc515f6-28c0-4c85-987d-fb9eec4f4a73",
   "metadata": {},
   "outputs": [],
   "source": [
    "df = pd.read_csv('factbook.csv')"
   ]
  },
  {
   "cell_type": "code",
   "execution_count": 4,
   "id": "a9e98a08-0a61-4d17-a344-8838c472c8d9",
   "metadata": {},
   "outputs": [
    {
     "name": "stdout",
     "output_type": "stream",
     "text": [
      "    Country;Area(sq km);Birth rate(births/1000 population);Current account balance;Death rate(deaths/1000 population);Debt - external;Electricity - consumption(kWh);Electricity - production(kWh);Exports;GDP;GDP - per capita;GDP - real growth rate(%);HIV/AIDS - adult prevalence rate(%);HIV/AIDS - deaths;HIV/AIDS - people living with HIV/AIDS;Highways(km);Imports;Industrial production growth rate(%);Infant mortality rate(deaths/1000 live births);Inflation rate (consumer prices)(%);Internet hosts;Internet users;Investment (gross fixed)(% of GDP);Labor force;Life expectancy at birth(years);Military expenditures - dollar figure;Military expenditures - percent of GDP(%);Natural gas - consumption(cu m);Natural gas - exports(cu m);Natural gas - imports(cu m);Natural gas - production(cu m);Natural gas - proved reserves(cu m);Oil - consumption(bbl/day);Oil - exports(bbl/day);Oil - imports(bbl/day);Oil - production(bbl/day);Oil - proved reserves(bbl);Population;Public debt(% of GDP);Railways(km);Reserves of foreign exchange & gold;Telephones - main lines in use;Telephones - mobile cellular;Total fertility rate(children born/woman);Unemployment rate(%)\n",
      "0    String;double;double;double;double;double;doub...                                                                                                                                                                                                                                                                                                                                                                                                                                                                                                                                                                                                                                                                                                                                                                                                                                                                                                                                                                                                                                                                                                                                                \n",
      "1    Afghanistan;647500;47.02;;20.75;8000000000;652...                                                                                                                                                                                                                                                                                                                                                                                                                                                                                                                                                                                                                                                                                                                                                                                                                                                                                                                                                                                                                                                                                                                                                \n",
      "2    Akrotiri;123;;;;;;;;;;;;;;;;;;;;;;;;;;;;;;;;;;...                                                                                                                                                                                                                                                                                                                                                                                                                                                                                                                                                                                                                                                                                                                                                                                                                                                                                                                                                                                                                                                                                                                                                \n",
      "3    Albania;28748;15.08;-504000000;5.12;1410000000...                                                                                                                                                                                                                                                                                                                                                                                                                                                                                                                                                                                                                                                                                                                                                                                                                                                                                                                                                                                                                                                                                                                                                \n",
      "4    Algeria;2381740;17.13;11900000000;4.60;2190000...                                                                                                                                                                                                                                                                                                                                                                                                                                                                                                                                                                                                                                                                                                                                                                                                                                                                                                                                                                                                                                                                                                                                                \n",
      "..                                                 ...                                                                                                                                                                                                                                                                                                                                                                                                                                                                                                                                                                                                                                                                                                                                                                                                                                                                                                                                                                                                                                                                                                                                                \n",
      "259  West Bank;5860;32.37;;3.99;108000000;;;2050000...                                                                                                                                                                                                                                                                                                                                                                                                                                                                                                                                                                                                                                                                                                                                                                                                                                                                                                                                                                                                                                                                                                                                                \n",
      "260  Western Sahara;266000;;;;;83700000;90000000;;;...                                                                                                                                                                                                                                                                                                                                                                                                                                                                                                                                                                                                                                                                                                                                                                                                                                                                                                                                                                                                                                                                                                                                                \n",
      "261  Yemen;527970;43.07;369900000;8.53;5400000000;2...                                                                                                                                                                                                                                                                                                                                                                                                                                                                                                                                                                                                                                                                                                                                                                                                                                                                                                                                                                                                                                                                                                                                                \n",
      "262  Zambia;752614;41.38;-181400000;20.23;535300000...                                                                                                                                                                                                                                                                                                                                                                                                                                                                                                                                                                                                                                                                                                                                                                                                                                                                                                                                                                                                                                                                                                                                                \n",
      "263  Zimbabwe;390580;29.74;-230300000;24.66;4086000...                                                                                                                                                                                                                                                                                                                                                                                                                                                                                                                                                                                                                                                                                                                                                                                                                                                                                                                                                                                                                                                                                                                                                \n",
      "\n",
      "[264 rows x 1 columns]\n"
     ]
    }
   ],
   "source": [
    "print(df)"
   ]
  },
  {
   "cell_type": "code",
   "execution_count": null,
   "id": "05f689de-74dc-4bd6-b28c-c52f8c1940d2",
   "metadata": {},
   "outputs": [],
   "source": []
  }
 ],
 "metadata": {
  "kernelspec": {
   "display_name": "Python 3 (ipykernel)",
   "language": "python",
   "name": "python3"
  },
  "language_info": {
   "codemirror_mode": {
    "name": "ipython",
    "version": 3
   },
   "file_extension": ".py",
   "mimetype": "text/x-python",
   "name": "python",
   "nbconvert_exporter": "python",
   "pygments_lexer": "ipython3",
   "version": "3.12.2"
  }
 },
 "nbformat": 4,
 "nbformat_minor": 5
}
